{
 "cells": [
  {
   "cell_type": "code",
   "execution_count": 23,
   "id": "691ce081-1473-4b92-93a3-ca45bf5a2a51",
   "metadata": {
    "tags": []
   },
   "outputs": [],
   "source": [
    "import pandas as pd"
   ]
  },
  {
   "cell_type": "code",
   "execution_count": 24,
   "id": "79b92821-7afe-46ea-b528-c7fcd8a9004e",
   "metadata": {
    "tags": []
   },
   "outputs": [
    {
     "name": "stdout",
     "output_type": "stream",
     "text": [
      "CPU times: user 7.69 s, sys: 10.4 s, total: 18.1 s\n",
      "Wall time: 17.8 s\n"
     ]
    }
   ],
   "source": [
    "%%time\n",
    "\n",
    "# df_news_final_project_whole = pd.read_parquet('https://storage.googleapis.com/msca-bdp-data-open/news_final_project/news_final_project.parquet', engine='pyarrow')\n",
    "# df_news_final_project_whole.shape\n",
    "\n",
    "df_news_final_project_whole = pd.read_parquet('./data/news_final_project.parquet')"
   ]
  },
  {
   "cell_type": "code",
   "execution_count": 25,
   "id": "195c4191-1ca6-4594-acfc-ce91c998d25f",
   "metadata": {
    "tags": []
   },
   "outputs": [],
   "source": [
    "# df_news_final_project_whole.to_parquet(\"./data/news_final_project.parquet\")"
   ]
  },
  {
   "cell_type": "code",
   "execution_count": 26,
   "id": "2564f3f0-15f5-4656-bee3-0c2d6a28a51d",
   "metadata": {
    "tags": []
   },
   "outputs": [
    {
     "data": {
      "text/html": [
       "<div>\n",
       "<style scoped>\n",
       "    .dataframe tbody tr th:only-of-type {\n",
       "        vertical-align: middle;\n",
       "    }\n",
       "\n",
       "    .dataframe tbody tr th {\n",
       "        vertical-align: top;\n",
       "    }\n",
       "\n",
       "    .dataframe thead th {\n",
       "        text-align: right;\n",
       "    }\n",
       "</style>\n",
       "<table border=\"1\" class=\"dataframe\">\n",
       "  <thead>\n",
       "    <tr style=\"text-align: right;\">\n",
       "      <th></th>\n",
       "      <th>url</th>\n",
       "      <th>date</th>\n",
       "      <th>language</th>\n",
       "      <th>title</th>\n",
       "      <th>text</th>\n",
       "    </tr>\n",
       "  </thead>\n",
       "  <tbody>\n",
       "    <tr>\n",
       "      <th>0</th>\n",
       "      <td>http://galusaustralis.com/2020/02/486473/legal...</td>\n",
       "      <td>2020-02-26</td>\n",
       "      <td>en</td>\n",
       "      <td>LegalTech Artificial Intelligence Market 2019 ...</td>\n",
       "      <td>LegalTech Artificial Intelligence Market 2019 ...</td>\n",
       "    </tr>\n",
       "    <tr>\n",
       "      <th>1</th>\n",
       "      <td>http://newsparliament.com/2020/02/27/children-...</td>\n",
       "      <td>2020-02-27</td>\n",
       "      <td>en</td>\n",
       "      <td>Children With Autism Saw Their Learning and So...</td>\n",
       "      <td>\\nChildren With Autism Saw Their Learning and ...</td>\n",
       "    </tr>\n",
       "    <tr>\n",
       "      <th>2</th>\n",
       "      <td>http://www.agoravox.it/Covid-19-un-messaggio-d...</td>\n",
       "      <td>2020-03-13</td>\n",
       "      <td>en</td>\n",
       "      <td>Covid-19: un messaggio dai ricercatori italian...</td>\n",
       "      <td>\\n\\n\\nCovid-19: un messaggio dai ricercatori i...</td>\n",
       "    </tr>\n",
       "    <tr>\n",
       "      <th>3</th>\n",
       "      <td>http://www.desototimes.com/news/child-actor-cl...</td>\n",
       "      <td>2022-06-09</td>\n",
       "      <td>en</td>\n",
       "      <td>Child actor Claude Jarman Jr. looks back on hi...</td>\n",
       "      <td>\\nChild actor Claude Jarman Jr. looks back on ...</td>\n",
       "    </tr>\n",
       "    <tr>\n",
       "      <th>4</th>\n",
       "      <td>http://www.millenniumpost.in/big-stories/ai-ex...</td>\n",
       "      <td>2020-08-07</td>\n",
       "      <td>en</td>\n",
       "      <td>Two dead as AI Express flight skids off Kozhik...</td>\n",
       "      <td>Two dead as AI Express flight skids off Kozhik...</td>\n",
       "    </tr>\n",
       "  </tbody>\n",
       "</table>\n",
       "</div>"
      ],
      "text/plain": [
       "                                                 url        date language  \\\n",
       "0  http://galusaustralis.com/2020/02/486473/legal...  2020-02-26       en   \n",
       "1  http://newsparliament.com/2020/02/27/children-...  2020-02-27       en   \n",
       "2  http://www.agoravox.it/Covid-19-un-messaggio-d...  2020-03-13       en   \n",
       "3  http://www.desototimes.com/news/child-actor-cl...  2022-06-09       en   \n",
       "4  http://www.millenniumpost.in/big-stories/ai-ex...  2020-08-07       en   \n",
       "\n",
       "                                               title  \\\n",
       "0  LegalTech Artificial Intelligence Market 2019 ...   \n",
       "1  Children With Autism Saw Their Learning and So...   \n",
       "2  Covid-19: un messaggio dai ricercatori italian...   \n",
       "3  Child actor Claude Jarman Jr. looks back on hi...   \n",
       "4  Two dead as AI Express flight skids off Kozhik...   \n",
       "\n",
       "                                                text  \n",
       "0  LegalTech Artificial Intelligence Market 2019 ...  \n",
       "1  \\nChildren With Autism Saw Their Learning and ...  \n",
       "2  \\n\\n\\nCovid-19: un messaggio dai ricercatori i...  \n",
       "3  \\nChild actor Claude Jarman Jr. looks back on ...  \n",
       "4  Two dead as AI Express flight skids off Kozhik...  "
      ]
     },
     "execution_count": 26,
     "metadata": {},
     "output_type": "execute_result"
    }
   ],
   "source": [
    "df_news_final_project_whole.head()"
   ]
  },
  {
   "cell_type": "code",
   "execution_count": 27,
   "id": "5fc5e31c-8368-4391-add5-0d13bccfca88",
   "metadata": {
    "tags": []
   },
   "outputs": [],
   "source": [
    "# Sample for testing\n",
    "# df_news_final_project = df_news_final_project.sample(frac=0.001)\n",
    "# df_news_final_project = df_news_final_project_whole.head(20)"
   ]
  },
  {
   "cell_type": "code",
   "execution_count": 30,
   "id": "f7001beb-f397-4047-ae04-87e17fd2c77b",
   "metadata": {
    "tags": []
   },
   "outputs": [
    {
     "name": "stdout",
     "output_type": "stream",
     "text": [
      "CPU times: user 10h 16min 29s, sys: 2min 17s, total: 10h 18min 47s\n",
      "Wall time: 10h 18min 57s\n"
     ]
    },
    {
     "name": "stderr",
     "output_type": "stream",
     "text": [
      "<timed exec>:66: SettingWithCopyWarning: \n",
      "A value is trying to be set on a copy of a slice from a DataFrame.\n",
      "Try using .loc[row_indexer,col_indexer] = value instead\n",
      "\n",
      "See the caveats in the documentation: https://pandas.pydata.org/pandas-docs/stable/user_guide/indexing.html#returning-a-view-versus-a-copy\n"
     ]
    }
   ],
   "source": [
    "%%time\n",
    "\n",
    "import pandas as pd\n",
    "import numpy as np\n",
    "import re\n",
    "import spacy\n",
    "from langdetect import detect, LangDetectException\n",
    "\n",
    "url_re = re.compile(r'http\\S+')\n",
    "html_tag_re = re.compile(r'<[^>]+>')\n",
    "end_punctuation_re = re.compile(r'[\\.\\?\\!][\"\\']?$')\n",
    "ai_re = re.compile(r'\\b(artificial intelligence)\\b', re.IGNORECASE)\n",
    "ml_re = re.compile(r'\\b(machine learning)\\b', re.IGNORECASE)\n",
    "\n",
    "nlp = spacy.load(\"en_core_web_sm\", disable=[\"ner\", \"tagger\", \"parser\", \"attribute_ruler\", \"lemmatizer\"])\n",
    "nlp.enable_pipe(\"senter\")\n",
    "\n",
    "def preprocess_chunk(chunk):\n",
    "    chunk = url_re.sub('', chunk)\n",
    "    chunk = html_tag_re.sub(' ', chunk)\n",
    "    chunk = chunk.replace('“', '\"').replace('”', '\"').replace(\"‘\", \"'\").replace(\"’\", \"'\")\n",
    "    chunk = ai_re.sub('AI', chunk)\n",
    "    chunk = ml_re.sub('ML', chunk)\n",
    "    chunk = re.sub(r'\\b\\w{21,}\\b', '', chunk)\n",
    "    chunk = re.sub(r'\\s+', ' ', chunk).strip()\n",
    "    return chunk\n",
    "\n",
    "def is_complete_sentence(sentence):\n",
    "    forbidden_words_re = re.compile(r'\\b(copyrights?|cookies?|powered)\\b', re.IGNORECASE)\n",
    "    try:\n",
    "        return (len(sentence.split()) >= 4 and\n",
    "                end_punctuation_re.search(sentence) and\n",
    "                not any(char in sentence for char in [\":\", \"-\", \"–\", \"|\"]) and\n",
    "                not forbidden_words_re.search(sentence) and\n",
    "                detect(sentence) == 'en')\n",
    "    except LangDetectException:\n",
    "        return False\n",
    "\n",
    "def clean_article_text(article_text, article_title):\n",
    "    processed_title = preprocess_chunk(article_title)\n",
    "    valid_sentences = [processed_title]\n",
    "    chunks = re.split(r'\\n|/|\\\\', article_text)\n",
    "    for chunk in chunks:\n",
    "        chunk = preprocess_chunk(chunk)\n",
    "        if len(chunk.split()) >= 10:\n",
    "            doc = nlp(chunk)\n",
    "            for sent in doc.sents:\n",
    "                if is_complete_sentence(sent.text):\n",
    "                    valid_sentences.append(sent.text)\n",
    "    return ' '.join(valid_sentences)\n",
    "\n",
    "keywords = ['AI', 'ML', 'Artificial Intelligence', 'Machine Learning', 'data', 'Deep Learning', 'Neural Network', 'NLP', 'Natural Language Processing', 'Computer Vision', 'Robotics', 'Analytics', 'Business Intelligence']\n",
    "keywords_re = re.compile('|'.join(keywords), re.IGNORECASE)\n",
    "\n",
    "def contains_keywords(text):\n",
    "    return bool(keywords_re.search(text))\n",
    "\n",
    "df_filtered = df_news_final_project_whole[df_news_final_project_whole['text'].apply(contains_keywords)].copy()\n",
    "df_filtered['token_count'] = df_filtered['text'].apply(lambda x: len(x.split()))\n",
    "\n",
    "Q1 = df_filtered['token_count'].quantile(0.25)\n",
    "Q3 = df_filtered['token_count'].quantile(0.75)\n",
    "IQR = Q3 - Q1\n",
    "lower_bound = Q1 - 1.5 * IQR\n",
    "upper_bound = Q3 + 1.5 * IQR\n",
    "\n",
    "df_filtered_final = df_filtered[(df_filtered['token_count'] >= lower_bound) & (df_filtered['token_count'] <= upper_bound)]\n",
    "df_filtered_final['cleaned_text'] = df_filtered_final.apply(lambda row: clean_article_text(row['text'], row['title']), axis=1)\n",
    "\n",
    "\n",
    "# import pandas as pd\n",
    "# import numpy as np\n",
    "# import re\n",
    "# import spacy\n",
    "# from langdetect import detect_langs\n",
    "\n",
    "# # Compile regular expressions for improved performance\n",
    "# url_re = re.compile(r'http\\S+')\n",
    "# html_tag_re = re.compile(r'<[^>]+>')\n",
    "# end_punctuation_re = re.compile(r'[\\.\\?\\!][\"\\']?$')\n",
    "\n",
    "# # Patterns for case-insensitive replacement of specific bigrams\n",
    "# ai_re = re.compile(r'\\b(artificial intelligence)\\b', re.IGNORECASE)\n",
    "# ml_re = re.compile(r'\\b(machine learning)\\b', re.IGNORECASE)\n",
    "\n",
    "# # !python -m spacy download en_core_web_sm\n",
    "\n",
    "# # Load spaCy model with reduced pipeline components for efficiency\n",
    "# nlp = spacy.load(\"en_core_web_sm\", disable=[\"ner\", \"tagger\", \"parser\", \"attribute_ruler\", \"lemmatizer\"])\n",
    "# nlp.enable_pipe(\"senter\")\n",
    "\n",
    "# def preprocess_chunk(chunk):\n",
    "#     chunk = url_re.sub('', chunk)  # Remove URLs\n",
    "#     chunk = html_tag_re.sub(' ', chunk)  # Remove HTML tags\n",
    "#     chunk = chunk.replace('“', '\"').replace('”', '\"').replace(\"‘\", \"'\").replace(\"’\", \"'\")\n",
    "#     chunk = ai_re.sub('AI', chunk)  # Replace \"artificial intelligence\" with \"AI\"\n",
    "#     chunk = ml_re.sub('ML', chunk)  # Replace \"machine learning\" with \"ML\"\n",
    "#     chunk = re.sub(r'\\b\\w{21,}\\b', '', chunk)  # Remove words longer than 20 characters\n",
    "#     chunk = re.sub(r'\\s+', ' ', chunk).strip()  # Normalize spaces\n",
    "#     return chunk\n",
    "\n",
    "# def is_complete_sentence(sentence):\n",
    "#     forbidden_words_re = re.compile(r'\\b(copyrights?|cookies?|powered)\\b', re.IGNORECASE)\n",
    "#     return (len(sentence.split()) >= 4 and\n",
    "#             end_punctuation_re.search(sentence) and\n",
    "#             not any(char in sentence for char in [\":\", \"-\", \"–\", \"|\"]) and\n",
    "#             not forbidden_words_re.search(sentence) and\n",
    "#             detect_langs(sentence)[0].lang == 'en')\n",
    "\n",
    "# def clean_article_text(article_text, article_title):\n",
    "#     processed_title = preprocess_chunk(article_title)\n",
    "#     valid_sentences = [processed_title]\n",
    "#     chunks = re.split(r'\\n|/|\\\\', article_text)\n",
    "#     for chunk in chunks:\n",
    "#         chunk = preprocess_chunk(chunk)\n",
    "#         if len(chunk.split()) >= 10:\n",
    "#             doc = nlp(chunk)\n",
    "#             for sent in doc.sents:\n",
    "#                 if is_complete_sentence(sent.text):\n",
    "#                     valid_sentences.append(sent.text)\n",
    "#     return ' '.join(valid_sentences)\n",
    "\n",
    "# # Keywords for filtering\n",
    "# keywords = ['AI', 'ML', 'Artificial Intelligence', 'Machine Learning', 'Data', 'Deep Learning', 'Neural Network', 'NLP', 'Natural Language Processing', 'Computer Vision', 'Analytics']\n",
    "# keywords_re = re.compile('|'.join(keywords), re.IGNORECASE)\n",
    "\n",
    "# def contains_keywords(text):\n",
    "#     return bool(keywords_re.search(text))\n",
    "\n",
    "# df_filtered = df_news_final_project_whole[df_news_final_project_whole['text'].apply(contains_keywords)]\n",
    "# df_filtered['token_count'] = df_filtered['text'].apply(lambda x: len(x.split()))\n",
    "\n",
    "# Q1 = df_filtered['token_count'].quantile(0.25)\n",
    "# Q3 = df_filtered['token_count'].quantile(0.75)\n",
    "# IQR = Q3 - Q1\n",
    "# lower_bound = Q1 - 1.5 * IQR\n",
    "# upper_bound = Q3 + 1.5 * IQR\n",
    "\n",
    "# df_filtered_final = df_filtered[(df_filtered['token_count'] >= lower_bound) & (df_filtered['token_count'] <= upper_bound)]\n",
    "# df_filtered_final['cleaned_text'] = df_filtered_final.apply(lambda row: clean_article_text(row['text'], row['title']), axis=1)"
   ]
  },
  {
   "cell_type": "code",
   "execution_count": 33,
   "id": "b1f4b03a-611f-4f74-8f9a-452fa0f4854c",
   "metadata": {
    "tags": []
   },
   "outputs": [
    {
     "data": {
      "text/plain": [
       "(192383, 7)"
      ]
     },
     "execution_count": 33,
     "metadata": {},
     "output_type": "execute_result"
    }
   ],
   "source": [
    "df_filtered_final.shape"
   ]
  },
  {
   "cell_type": "code",
   "execution_count": 35,
   "id": "96567308-e1fa-4739-bf5f-f4618e2aa7de",
   "metadata": {
    "tags": []
   },
   "outputs": [
    {
     "name": "stdout",
     "output_type": "stream",
     "text": [
      "CPU times: user 10.5 s, sys: 5.41 s, total: 15.9 s\n",
      "Wall time: 36.6 s\n"
     ]
    }
   ],
   "source": [
    "%%time\n",
    "\n",
    "df_filtered_final.to_parquet(\"./data/news_final_project_clean.parquet\")"
   ]
  },
  {
   "cell_type": "code",
   "execution_count": 6,
   "id": "79524588-ab71-4777-83c8-69c901108d02",
   "metadata": {
    "tags": []
   },
   "outputs": [
    {
     "data": {
      "text/plain": [
       "'\\n\\nArtificial Intelligence As A Service Market : Opportunities, Market Analysis & Outlook To 2027 – 3w Market News Reports\\n\\n \\n\\n \\nContact Us\\nAbout Us\\n \\n3w Market News Reports\\n3rd Market Reports and Analytics\\nNews\\nMarket Reports\\nIndustry Analytics\\nIndustry Reports\\nMarket Research\\nBusiness Opportunity\\nEmerging Trends\\nGrowth Prospects\\n \\n \\n \\nHomeIndustryArtificial Intelligence As A Service Market : Opportunities, Market Analysis & Outlook To 2027 \\n\\n                Artificial Intelligence As A Service Market : Opportunities, Market Analysis & Outlook To 2027            \\n\\n\\t\\t\\t                    \\tPosted On: April 29, 2020 \\n\\n\\t\\t\\t                    \\tPosted By: [email\\xa0protected] \\n\\n\\t\\t\\t                \\t\\tComments: 0 \\n\\xa0\\nThe latest research report on Artificial Intelligence As A Service Market aims to analyze the Market Size, Share, Emerging Trends, Opportunities in global Artificial Intelligence As A Service industry. Simultaneously report presents the Artificial Intelligence As A Service volume and value at the global level, regional level, and company level.\\nThis market research report has been arranged to coordinate both the qualitative and quantitative aspects of the industry within each of the regions. Readers can become alert of crucial opportunities available in the Artificial Intelligence As A Service market as well as key factors driving and arresting market growth.\\nThe major manufacturers covered in this report: \\n(IBM, Google, Amazon Web Services, Microsoft, Salesforce, FICO, SAS Institute, Intel, SAP, IRIS AI, Bigml, H2o.AI)\\nGet Sample PDF (including COVID19 Impact Analysis, full TOC, Tables, and Figures) of Artificial Intelligence As A Service:\\xa0https://www.stratagemmarketinsights.com/sample/18458\\xa0\\nThis report sample includes:\\n1. Brief Introduction to the research report.2. Table of Contents (Scope covered as a part of the study)\\xa0 \\xa0 Top players in the market3. Research framework (presentation)4. The research methodology adopted by Stratagem Market Insights\\nFor the customer to be able to plan better, the Artificial Intelligence As A Service Market report offers a detailed list of the key drivers, restraints, and growth trends in the Artificial Intelligence As A Service Industry. Using this information, the customer can then plan energetically to gain the superlative share in the Artificial Intelligence As A Service Market with significant ease rather than consuming a lot of resources for a not so favourable result. Additionally, the report gives information on the approach and growth outlining tips for the customer to be more effective in its growth prospects.\\nMarket Segmentation:\\nThe Artificial Intelligence As A Service Market has been segregated into various crucial divisions including applications, types, and regions. Each market segment is intensively studied in the report contemplating its market acceptance, worthiness, demand, and growth prospects. The segmentation analysis will help the client to customize their marketing approach to have a better command of each segment and to identify the most prospective customer base.\\nArtificial Intelligence As A Service Market: Regional analysis includes:\\n\\nAsia-Pacific (Vietnam, China, Malaysia, Japan, Philippines, Korea, Thailand, India, Indonesia, and Australia)Europe (Turkey, Germany, Russia UK, Italy, France, etc.)North America (the United States, Mexico, and Canada.)South America (Brazil etc.)The Middle East and Africa (GCC Countries and Egypt.)\\nAccess insightful study with over 100+ pages, list of tables & figures, profiling 20+ companies and More\\nBuy Now This Premium Report to Grow your Business @\\xa0https://www.stratagemmarketinsights.com/cart/18458\\xa0\\nYears considered for this report:\\nHistorical Years: 2014-2018Base Year: 2019Estimated Year: 2020Forecast Period: 2020-2027\\nCrucial Data included in the Artificial Intelligence As A Service market report:\\n\\nThe Political and economic prognosis in different regions as well as the influence on the Artificial Intelligence As A Service economy\\nDevelopment Prospect of market players at the developing markets\\nCurrent And future prospects of various sections of the Artificial Intelligence As A Service economy\\nY-o-Y Growth projection of those different regional markets\\nImpact Of those many regulatory policies on the Artificial Intelligence As A Service market in various regions\\n\\nEnquiry Before Buying option enables you to share your queries, in advance to procure the report. Kindly fill the form, and one of our consultants would get in touch with you to discuss the queries and would address them.\\nPlace an Enquiry before Purchase “Global Artificial Intelligence As A Service Market Size, Status and Forecast 2027:\\xa0https://www.stratagemmarketinsights.com/quiry/18458\\xa0\\n Artificial Intelligence as a Service Market GrowthArtificial Intelligence As A Service Market ShareArtificial Intelligence as a Service Market SizeArtificial Intelligence as a Service Market Trends\\n\\nPost navigation\\nPrev PostNext Post\\nLeave a Reply Cancel reply \\nYour email address will not be published. Required fields are marked *Comment Name * \\nEmail * \\nWebsite \\n \\n\\n \\n  Recent Posts \\n\\nCitrus Powder Market to Witness a Pronounce Growth During 2027: Allen Flavors, Cham Foods, Givaudan SA\\n\\n\\nAssessing the Fallout From the Coronavirus Pandemic – Smart Augmented Reality (AR) Glasses  Market: Quantitative Analysis From 2019 To 2023 To Enable The Stakeholders To Capitalize On The Prevailing Market Opportunities\\n\\n\\nWorld coronavirus Dispatch: Intelligent Evacuation System  Market 2020 Global Share, Growth, Size, Opportunities, Trends, Regional Overview, Leading Company Analysis, And Key Country Forecast to 2035\\n\\n\\nAddressing the potential impact of coronavirus disease (COVID-19) on Mounting Prices of Coupled With Onset of Cost-effective Alternatives to Fuel the Growth of the Triethylene Glycol  Market 2017 – 2025\\n\\n\\nTrending Report On Meal replacement Market By Growth, Demand & Opportunities & Forecast To 2025 | RXBAR(US), GoMacro(US)\\n\\n\\nRecent Comments[email\\xa0protected] on Europe Natural Gas Storage Market Size, Share, Industry Trends, Growth Insight, Share, Competitive Analysis, Statistics, Regional And Industry ForecastQiu Qiu online on Europe Natural Gas Storage Market Size, Share, Industry Trends, Growth Insight, Share, Competitive Analysis, Statistics, Regional And Industry Forecast[email\\xa0protected] on Global Agriculture Grade Zinc Chemicals Market Research Report 2020 | Industry Report, Industry Analysis, Key Players, Trends, Revenue, Regional Segmented, Outlook Until 2030Alex on Global Agriculture Grade Zinc Chemicals Market Research Report 2020 | Industry Report, Industry Analysis, Key Players, Trends, Revenue, Regional Segmented, Outlook Until 2030Jewel on Brain Mapping Instruments Market Research Report 2020 | Industry Report, Industry Analysis, Key Players, Trends, Revenue, Regional Segmented, Outlook Until 2030Archives \\nApril 2020\\nMarch 2020\\nFebruary 2020\\nJanuary 2020\\nDecember 2019\\n\\nCategories \\nBusiness Opportunity\\n\\nEmerging Trends\\n\\nGlobal News\\n\\nGrowth Prospects\\n\\nIndustry\\n\\nIndustry Analytics\\n\\nIndustry Reports\\n\\nLifestyle\\n\\nMarket\\n\\nMarket Research\\n\\nNews\\n\\nReports\\n\\nSatellite\\n\\nSections\\n\\nSpace\\n\\n\\nMeta \\nLog in\\nEntries RSS\\nComments RSS\\nWordPress.org \\n \\n \\n\\n                                        3w Market News Reports by Everestthemes \\n'"
      ]
     },
     "execution_count": 6,
     "metadata": {},
     "output_type": "execute_result"
    }
   ],
   "source": [
    "df_news_final_project[\"text\"].iloc[9]"
   ]
  },
  {
   "cell_type": "code",
   "execution_count": 7,
   "id": "088c7478-1340-40f6-9fbf-3543eded864b",
   "metadata": {
    "tags": []
   },
   "outputs": [
    {
     "ename": "KeyError",
     "evalue": "'cleaned_text'",
     "output_type": "error",
     "traceback": [
      "\u001b[0;31m---------------------------------------------------------------------------\u001b[0m",
      "\u001b[0;31mKeyError\u001b[0m                                  Traceback (most recent call last)",
      "File \u001b[0;32m/opt/conda/lib/python3.10/site-packages/pandas/core/indexes/base.py:3791\u001b[0m, in \u001b[0;36mIndex.get_loc\u001b[0;34m(self, key)\u001b[0m\n\u001b[1;32m   3790\u001b[0m \u001b[38;5;28;01mtry\u001b[39;00m:\n\u001b[0;32m-> 3791\u001b[0m     \u001b[38;5;28;01mreturn\u001b[39;00m \u001b[38;5;28;43mself\u001b[39;49m\u001b[38;5;241;43m.\u001b[39;49m\u001b[43m_engine\u001b[49m\u001b[38;5;241;43m.\u001b[39;49m\u001b[43mget_loc\u001b[49m\u001b[43m(\u001b[49m\u001b[43mcasted_key\u001b[49m\u001b[43m)\u001b[49m\n\u001b[1;32m   3792\u001b[0m \u001b[38;5;28;01mexcept\u001b[39;00m \u001b[38;5;167;01mKeyError\u001b[39;00m \u001b[38;5;28;01mas\u001b[39;00m err:\n",
      "File \u001b[0;32mindex.pyx:152\u001b[0m, in \u001b[0;36mpandas._libs.index.IndexEngine.get_loc\u001b[0;34m()\u001b[0m\n",
      "File \u001b[0;32mindex.pyx:181\u001b[0m, in \u001b[0;36mpandas._libs.index.IndexEngine.get_loc\u001b[0;34m()\u001b[0m\n",
      "File \u001b[0;32mpandas/_libs/hashtable_class_helper.pxi:7080\u001b[0m, in \u001b[0;36mpandas._libs.hashtable.PyObjectHashTable.get_item\u001b[0;34m()\u001b[0m\n",
      "File \u001b[0;32mpandas/_libs/hashtable_class_helper.pxi:7088\u001b[0m, in \u001b[0;36mpandas._libs.hashtable.PyObjectHashTable.get_item\u001b[0;34m()\u001b[0m\n",
      "\u001b[0;31mKeyError\u001b[0m: 'cleaned_text'",
      "\nThe above exception was the direct cause of the following exception:\n",
      "\u001b[0;31mKeyError\u001b[0m                                  Traceback (most recent call last)",
      "Cell \u001b[0;32mIn[7], line 1\u001b[0m\n\u001b[0;32m----> 1\u001b[0m \u001b[43mdf_news_final_project\u001b[49m\u001b[43m[\u001b[49m\u001b[38;5;124;43m\"\u001b[39;49m\u001b[38;5;124;43mcleaned_text\u001b[39;49m\u001b[38;5;124;43m\"\u001b[39;49m\u001b[43m]\u001b[49m\u001b[38;5;241m.\u001b[39miloc[\u001b[38;5;241m9\u001b[39m]\n",
      "File \u001b[0;32m/opt/conda/lib/python3.10/site-packages/pandas/core/frame.py:3893\u001b[0m, in \u001b[0;36mDataFrame.__getitem__\u001b[0;34m(self, key)\u001b[0m\n\u001b[1;32m   3891\u001b[0m \u001b[38;5;28;01mif\u001b[39;00m \u001b[38;5;28mself\u001b[39m\u001b[38;5;241m.\u001b[39mcolumns\u001b[38;5;241m.\u001b[39mnlevels \u001b[38;5;241m>\u001b[39m \u001b[38;5;241m1\u001b[39m:\n\u001b[1;32m   3892\u001b[0m     \u001b[38;5;28;01mreturn\u001b[39;00m \u001b[38;5;28mself\u001b[39m\u001b[38;5;241m.\u001b[39m_getitem_multilevel(key)\n\u001b[0;32m-> 3893\u001b[0m indexer \u001b[38;5;241m=\u001b[39m \u001b[38;5;28;43mself\u001b[39;49m\u001b[38;5;241;43m.\u001b[39;49m\u001b[43mcolumns\u001b[49m\u001b[38;5;241;43m.\u001b[39;49m\u001b[43mget_loc\u001b[49m\u001b[43m(\u001b[49m\u001b[43mkey\u001b[49m\u001b[43m)\u001b[49m\n\u001b[1;32m   3894\u001b[0m \u001b[38;5;28;01mif\u001b[39;00m is_integer(indexer):\n\u001b[1;32m   3895\u001b[0m     indexer \u001b[38;5;241m=\u001b[39m [indexer]\n",
      "File \u001b[0;32m/opt/conda/lib/python3.10/site-packages/pandas/core/indexes/base.py:3798\u001b[0m, in \u001b[0;36mIndex.get_loc\u001b[0;34m(self, key)\u001b[0m\n\u001b[1;32m   3793\u001b[0m     \u001b[38;5;28;01mif\u001b[39;00m \u001b[38;5;28misinstance\u001b[39m(casted_key, \u001b[38;5;28mslice\u001b[39m) \u001b[38;5;129;01mor\u001b[39;00m (\n\u001b[1;32m   3794\u001b[0m         \u001b[38;5;28misinstance\u001b[39m(casted_key, abc\u001b[38;5;241m.\u001b[39mIterable)\n\u001b[1;32m   3795\u001b[0m         \u001b[38;5;129;01mand\u001b[39;00m \u001b[38;5;28many\u001b[39m(\u001b[38;5;28misinstance\u001b[39m(x, \u001b[38;5;28mslice\u001b[39m) \u001b[38;5;28;01mfor\u001b[39;00m x \u001b[38;5;129;01min\u001b[39;00m casted_key)\n\u001b[1;32m   3796\u001b[0m     ):\n\u001b[1;32m   3797\u001b[0m         \u001b[38;5;28;01mraise\u001b[39;00m InvalidIndexError(key)\n\u001b[0;32m-> 3798\u001b[0m     \u001b[38;5;28;01mraise\u001b[39;00m \u001b[38;5;167;01mKeyError\u001b[39;00m(key) \u001b[38;5;28;01mfrom\u001b[39;00m \u001b[38;5;21;01merr\u001b[39;00m\n\u001b[1;32m   3799\u001b[0m \u001b[38;5;28;01mexcept\u001b[39;00m \u001b[38;5;167;01mTypeError\u001b[39;00m:\n\u001b[1;32m   3800\u001b[0m     \u001b[38;5;66;03m# If we have a listlike key, _check_indexing_error will raise\u001b[39;00m\n\u001b[1;32m   3801\u001b[0m     \u001b[38;5;66;03m#  InvalidIndexError. Otherwise we fall through and re-raise\u001b[39;00m\n\u001b[1;32m   3802\u001b[0m     \u001b[38;5;66;03m#  the TypeError.\u001b[39;00m\n\u001b[1;32m   3803\u001b[0m     \u001b[38;5;28mself\u001b[39m\u001b[38;5;241m.\u001b[39m_check_indexing_error(key)\n",
      "\u001b[0;31mKeyError\u001b[0m: 'cleaned_text'"
     ]
    }
   ],
   "source": [
    "df_news_final_project[\"cleaned_text\"].iloc[9]"
   ]
  },
  {
   "cell_type": "code",
   "execution_count": null,
   "id": "81894fa2-5ce9-4b77-83cf-3a2318478f60",
   "metadata": {},
   "outputs": [],
   "source": []
  }
 ],
 "metadata": {
  "environment": {
   "kernel": "conda-root-py",
   "name": "workbench-notebooks.m115",
   "type": "gcloud",
   "uri": "gcr.io/deeplearning-platform-release/workbench-notebooks:m115"
  },
  "kernelspec": {
   "display_name": "Python 3 (ipykernel)",
   "language": "python",
   "name": "conda-root-py"
  },
  "language_info": {
   "codemirror_mode": {
    "name": "ipython",
    "version": 3
   },
   "file_extension": ".py",
   "mimetype": "text/x-python",
   "name": "python",
   "nbconvert_exporter": "python",
   "pygments_lexer": "ipython3",
   "version": "3.10.13"
  }
 },
 "nbformat": 4,
 "nbformat_minor": 5
}
