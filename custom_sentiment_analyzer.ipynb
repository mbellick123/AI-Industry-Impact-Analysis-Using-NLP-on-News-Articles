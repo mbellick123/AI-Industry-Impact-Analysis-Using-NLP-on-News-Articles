{
 "cells": [
  {
   "cell_type": "code",
   "execution_count": 1,
   "id": "56017ae3-b499-4f24-b826-89f5d01e9619",
   "metadata": {
    "tags": []
   },
   "outputs": [
    {
     "name": "stdout",
     "output_type": "stream",
     "text": [
      "CPU times: user 833 ms, sys: 477 ms, total: 1.31 s\n",
      "Wall time: 602 ms\n"
     ]
    }
   ],
   "source": [
    "%%time\n",
    "\n",
    "import pandas as pd\n",
    "import numpy as np\n",
    "import matplotlib.pyplot as plt\n",
    "from sklearn.model_selection import train_test_split, cross_val_score\n",
    "from sklearn.feature_extraction.text import CountVectorizer, TfidfVectorizer\n",
    "from sklearn.naive_bayes import MultinomialNB\n",
    "from sklearn.linear_model import LogisticRegression\n",
    "from sklearn.svm import SVC\n",
    "from sklearn.metrics import confusion_matrix, accuracy_score\n",
    "from sklearn.pipeline import make_pipeline\n",
    "from sklearn.metrics import ConfusionMatrixDisplay\n",
    "import joblib  # For saving the model"
   ]
  },
  {
   "cell_type": "code",
   "execution_count": 6,
   "id": "9b3231de-a8af-4e93-98a9-b536b3c214fc",
   "metadata": {
    "tags": []
   },
   "outputs": [
    {
     "name": "stdout",
     "output_type": "stream",
     "text": [
      "CPU times: user 1.53 s, sys: 487 ms, total: 2.02 s\n",
      "Wall time: 2.94 s\n"
     ]
    }
   ],
   "source": [
    "%%time\n",
    "\n",
    "# Loading the dataset\n",
    "path = 'https://storage.googleapis.com/msca-bdp-data-open/yelp/yelp_train_sentiment.json'\n",
    "yelp = pd.read_json(path, orient='records', lines=True)"
   ]
  },
  {
   "cell_type": "code",
   "execution_count": 4,
   "id": "1bfd7eb0-a5af-41d6-b0be-053a4f226c56",
   "metadata": {
    "tags": []
   },
   "outputs": [
    {
     "data": {
      "text/html": [
       "<div>\n",
       "<style scoped>\n",
       "    .dataframe tbody tr th:only-of-type {\n",
       "        vertical-align: middle;\n",
       "    }\n",
       "\n",
       "    .dataframe tbody tr th {\n",
       "        vertical-align: top;\n",
       "    }\n",
       "\n",
       "    .dataframe thead th {\n",
       "        text-align: right;\n",
       "    }\n",
       "</style>\n",
       "<table border=\"1\" class=\"dataframe\">\n",
       "  <thead>\n",
       "    <tr style=\"text-align: right;\">\n",
       "      <th></th>\n",
       "      <th>text</th>\n",
       "      <th>label</th>\n",
       "      <th>lang</th>\n",
       "    </tr>\n",
       "  </thead>\n",
       "  <tbody>\n",
       "    <tr>\n",
       "      <th>0</th>\n",
       "      <td>I love Deagan's. I do. I really do. The atmosp...</td>\n",
       "      <td>1</td>\n",
       "      <td>en</td>\n",
       "    </tr>\n",
       "    <tr>\n",
       "      <th>1</th>\n",
       "      <td>I love the classes at this gym. Zumba and. Rad...</td>\n",
       "      <td>1</td>\n",
       "      <td>en</td>\n",
       "    </tr>\n",
       "    <tr>\n",
       "      <th>2</th>\n",
       "      <td>The tables and floor were dirty. I was the onl...</td>\n",
       "      <td>0</td>\n",
       "      <td>en</td>\n",
       "    </tr>\n",
       "    <tr>\n",
       "      <th>3</th>\n",
       "      <td>I had an oil change at the 15515 N Scottsdale ...</td>\n",
       "      <td>0</td>\n",
       "      <td>en</td>\n",
       "    </tr>\n",
       "    <tr>\n",
       "      <th>4</th>\n",
       "      <td>The absolute WORST apartment complex I have ev...</td>\n",
       "      <td>0</td>\n",
       "      <td>en</td>\n",
       "    </tr>\n",
       "  </tbody>\n",
       "</table>\n",
       "</div>"
      ],
      "text/plain": [
       "                                                text  label lang\n",
       "0  I love Deagan's. I do. I really do. The atmosp...      1   en\n",
       "1  I love the classes at this gym. Zumba and. Rad...      1   en\n",
       "2  The tables and floor were dirty. I was the onl...      0   en\n",
       "3  I had an oil change at the 15515 N Scottsdale ...      0   en\n",
       "4  The absolute WORST apartment complex I have ev...      0   en"
      ]
     },
     "execution_count": 4,
     "metadata": {},
     "output_type": "execute_result"
    }
   ],
   "source": [
    "yelp.head()"
   ]
  },
  {
   "cell_type": "code",
   "execution_count": 7,
   "id": "e576b581-06f5-41b3-b4e0-7fe0a81bef38",
   "metadata": {
    "tags": []
   },
   "outputs": [
    {
     "name": "stdout",
     "output_type": "stream",
     "text": [
      "CPU times: user 32.9 ms, sys: 0 ns, total: 32.9 ms\n",
      "Wall time: 31.1 ms\n"
     ]
    }
   ],
   "source": [
    "%%time\n",
    "\n",
    "\n",
    "# Define X and y from the sampled dataset\n",
    "X = yelp['text']\n",
    "y = yelp['label']\n",
    "\n",
    "# Split into training and testing sets\n",
    "X_train, X_test, y_train, y_test = train_test_split(X, y, random_state=1)"
   ]
  },
  {
   "cell_type": "code",
   "execution_count": 46,
   "id": "1a87b24a-aa4a-4fa9-8480-22fc6f7e827d",
   "metadata": {
    "tags": []
   },
   "outputs": [
    {
     "name": "stdout",
     "output_type": "stream",
     "text": [
      "CPU times: user 103 µs, sys: 0 ns, total: 103 µs\n",
      "Wall time: 107 µs\n"
     ]
    }
   ],
   "source": [
    "%%time\n",
    "\n",
    "# Define models and vectorizers\n",
    "models = {\n",
    "    'MultinomialNB': MultinomialNB(),\n",
    "    'LogisticRegression': LogisticRegression(max_iter=200),\n",
    "    'SVM': SGDClassifier(max_iter=100, tol=None)\n",
    "}\n",
    "\n",
    "vectorizers = {\n",
    "    'CountVectorizer': CountVectorizer(stop_words='english', ngram_range=(1,3)),\n",
    "    'TfidfVectorizer': TfidfVectorizer(stop_words='english', ngram_range=(1,3))\n",
    "}"
   ]
  },
  {
   "cell_type": "code",
   "execution_count": 47,
   "id": "2f5f5fef-bda3-42bc-b0a6-0ad7a85d7676",
   "metadata": {
    "tags": []
   },
   "outputs": [
    {
     "name": "stdout",
     "output_type": "stream",
     "text": [
      "MultinomialNB with CountVectorizer: Average CV Accuracy = 0.9418\n",
      "\n",
      "LogisticRegression with CountVectorizer: Average CV Accuracy = 0.9709\n",
      "\n",
      "SVM with CountVectorizer: Average CV Accuracy = 0.9709\n",
      "\n",
      "MultinomialNB with TfidfVectorizer: Average CV Accuracy = 0.9430\n",
      "\n",
      "LogisticRegression with TfidfVectorizer: Average CV Accuracy = 0.9635\n",
      "\n",
      "SVM with TfidfVectorizer: Average CV Accuracy = 0.9580\n",
      "\n",
      "Best Model: SVM with CountVectorizer with an average accuracy of 0.9709\n",
      "CPU times: user 2h 6min 38s, sys: 54min 2s, total: 3h 40s\n",
      "Wall time: 1h 30min 7s\n"
     ]
    }
   ],
   "source": [
    "%%time\n",
    "\n",
    "# Initialize dictionary to store average cross-validation scores\n",
    "cv_scores = {}\n",
    "\n",
    "# Loop through each combination of model and vectorizer\n",
    "for vect_name, vect in vectorizers.items():\n",
    "    for model_name, model in models.items():\n",
    "        pipeline = make_pipeline(vect, model)\n",
    "        cv_score = np.mean(cross_val_score(pipeline, X_train, y_train, cv=5, scoring='accuracy'))\n",
    "        cv_scores[f'{model_name} with {vect_name}'] = cv_score\n",
    "        print(f'{model_name} with {vect_name}: Average CV Accuracy = {cv_score:.4f}\\n')\n",
    "\n",
    "# Find the best model and vectorizer combination\n",
    "best_model_name = max(cv_scores, key=cv_scores.get)\n",
    "print(f'Best Model: {best_model_name} with an average accuracy of {cv_scores[best_model_name]:.4f}')"
   ]
  },
  {
   "cell_type": "code",
   "execution_count": 50,
   "id": "73ae2ee6-327a-4698-9a79-1853ac5b1d0d",
   "metadata": {
    "tags": []
   },
   "outputs": [
    {
     "name": "stdout",
     "output_type": "stream",
     "text": [
      "CPU times: user 3min 54s, sys: 5.51 s, total: 4min\n",
      "Wall time: 4min 3s\n"
     ]
    },
    {
     "data": {
      "text/plain": [
       "['./models/best_sentiment_model.joblib']"
      ]
     },
     "execution_count": 50,
     "metadata": {},
     "output_type": "execute_result"
    }
   ],
   "source": [
    "%%time\n",
    "\n",
    "# Train the best model on the entire training dataset\n",
    "best_vect_name = best_model_name.split(' with ')[1]\n",
    "best_model = models[best_model_name.split(' ')[0]]\n",
    "pipeline = make_pipeline(vectorizers[best_vect_name], best_model)\n",
    "pipeline.fit(X_train, y_train)\n",
    "\n",
    "# Save the final model\n",
    "joblib.dump(pipeline, './models/best_sentiment_model.joblib')"
   ]
  },
  {
   "cell_type": "code",
   "execution_count": 10,
   "id": "2db55d01-1305-4cfe-ba52-9f6b793a93bc",
   "metadata": {
    "tags": []
   },
   "outputs": [
    {
     "name": "stdout",
     "output_type": "stream",
     "text": [
      "Test Accuracy: 97.18%\n"
     ]
    },
    {
     "data": {
      "image/png": "[encoded data removed]",
      "text/plain": [
       "<Figure size 800x800 with 2 Axes>"
      ]
     },
     "metadata": {},
     "output_type": "display_data"
    }
   ],
   "source": [
    "# %%time\n",
    "\n",
    "# # Load the saved model from the 'models' directory\n",
    "# pipeline_loaded = joblib.load('./models/best_sentiment_model.joblib')\n",
    "\n",
    "# # Evaluate the loaded model on the test set\n",
    "# y_pred = pipeline_loaded.predict(X_test)\n",
    "# print(f'Test Accuracy: {accuracy_score(y_test, y_pred) * 100:.2f}%')\n",
    "\n",
    "# # Print a clean confusion matrix\n",
    "# cm = confusion_matrix(y_test, y_pred)\n",
    "# disp = ConfusionMatrixDisplay(confusion_matrix=cm)\n",
    "# disp.plot()\n",
    "# plt.show()\n",
    "\n",
    "\n",
    "\n",
    "import matplotlib.pyplot as plt\n",
    "from sklearn.metrics import ConfusionMatrixDisplay\n",
    "\n",
    "# Assuming y_test and y_pred are already defined\n",
    "\n",
    "# Load the saved model from the 'models' directory\n",
    "pipeline_loaded = joblib.load('./models/best_sentiment_model.joblib')\n",
    "\n",
    "# Evaluate the loaded model on the test set\n",
    "y_pred = pipeline_loaded.predict(X_test)\n",
    "print(f'Test Accuracy: {accuracy_score(y_test, y_pred) * 100:.2f}%')\n",
    "\n",
    "# Generate the confusion matrix\n",
    "cm = confusion_matrix(y_test, y_pred, labels=pipeline_loaded.classes_)\n",
    "disp = ConfusionMatrixDisplay(confusion_matrix=cm, display_labels=['Negative', 'Positive'])\n",
    "\n",
    "# Plot with adjustments\n",
    "fig, ax = plt.subplots(figsize=(8, 8))  # Increase figure size for better readability\n",
    "disp.plot(cmap=plt.cm.Blues, ax=ax)\n",
    "disp.ax_.set_title('Confusion Matrix (Reddit Test Set)', fontsize=18)  # Add title and adjust font size\n",
    "disp.ax_.set_xlabel('Predicted label', fontsize=16)  # Increase font size for x-axis label\n",
    "disp.ax_.set_ylabel('True label', fontsize=16)  # Increase font size for y-axis label\n",
    "plt.xticks(fontsize=14)  # Increase font size for x-axis ticks\n",
    "plt.yticks(fontsize=14)  # Increase font size for y-axis ticks\n",
    "plt.show()\n"
   ]
  },
  {
   "cell_type": "code",
   "execution_count": 2,
   "id": "58ec5a0d-4e49-431f-9ea6-281868a36a2a",
   "metadata": {
    "tags": []
   },
   "outputs": [
    {
     "data": {
      "text/html": [
       "<div>\n",
       "<style scoped>\n",
       "    .dataframe tbody tr th:only-of-type {\n",
       "        vertical-align: middle;\n",
       "    }\n",
       "\n",
       "    .dataframe tbody tr th {\n",
       "        vertical-align: top;\n",
       "    }\n",
       "\n",
       "    .dataframe thead th {\n",
       "        text-align: right;\n",
       "    }\n",
       "</style>\n",
       "<table border=\"1\" class=\"dataframe\">\n",
       "  <thead>\n",
       "    <tr style=\"text-align: right;\">\n",
       "      <th></th>\n",
       "      <th>url</th>\n",
       "      <th>date</th>\n",
       "      <th>language</th>\n",
       "      <th>title</th>\n",
       "      <th>text</th>\n",
       "      <th>token_count</th>\n",
       "      <th>cleaned_text</th>\n",
       "    </tr>\n",
       "  </thead>\n",
       "  <tbody>\n",
       "    <tr>\n",
       "      <th>0</th>\n",
       "      <td>http://galusaustralis.com/2020/02/486473/legal...</td>\n",
       "      <td>2020-02-26</td>\n",
       "      <td>en</td>\n",
       "      <td>LegalTech Artificial Intelligence Market 2019 ...</td>\n",
       "      <td>LegalTech Artificial Intelligence Market 2019 ...</td>\n",
       "      <td>951</td>\n",
       "      <td>LegalTech AI Market 2019 Technology Advancemen...</td>\n",
       "    </tr>\n",
       "    <tr>\n",
       "      <th>1</th>\n",
       "      <td>http://newsparliament.com/2020/02/27/children-...</td>\n",
       "      <td>2020-02-27</td>\n",
       "      <td>en</td>\n",
       "      <td>Children With Autism Saw Their Learning and So...</td>\n",
       "      <td>\\nChildren With Autism Saw Their Learning and ...</td>\n",
       "      <td>1567</td>\n",
       "      <td>Children With Autism Saw Their Learning and So...</td>\n",
       "    </tr>\n",
       "    <tr>\n",
       "      <th>2</th>\n",
       "      <td>http://www.agoravox.it/Covid-19-un-messaggio-d...</td>\n",
       "      <td>2020-03-13</td>\n",
       "      <td>en</td>\n",
       "      <td>Covid-19: un messaggio dai ricercatori italian...</td>\n",
       "      <td>\\n\\n\\nCovid-19: un messaggio dai ricercatori i...</td>\n",
       "      <td>2055</td>\n",
       "      <td>Covid-19: un messaggio dai ricercatori italian...</td>\n",
       "    </tr>\n",
       "    <tr>\n",
       "      <th>4</th>\n",
       "      <td>http://www.millenniumpost.in/big-stories/ai-ex...</td>\n",
       "      <td>2020-08-07</td>\n",
       "      <td>en</td>\n",
       "      <td>Two dead as AI Express flight skids off Kozhik...</td>\n",
       "      <td>Two dead as AI Express flight skids off Kozhik...</td>\n",
       "      <td>266</td>\n",
       "      <td>Two dead as AI Express flight skids off Kozhik...</td>\n",
       "    </tr>\n",
       "    <tr>\n",
       "      <th>5</th>\n",
       "      <td>http://www.nativestew.com/2023/11/ai-took-my-j...</td>\n",
       "      <td>2023-11-20</td>\n",
       "      <td>en</td>\n",
       "      <td>Native Stew - Bahamas AI Art, Photos, Videos: ...</td>\n",
       "      <td>\\nNative Stew - Bahamas AI Art, Photos, Videos...</td>\n",
       "      <td>328</td>\n",
       "      <td>Native Stew - Bahamas AI Art, Photos, Videos: ...</td>\n",
       "    </tr>\n",
       "  </tbody>\n",
       "</table>\n",
       "</div>"
      ],
      "text/plain": [
       "                                                 url        date language  \\\n",
       "0  http://galusaustralis.com/2020/02/486473/legal...  2020-02-26       en   \n",
       "1  http://newsparliament.com/2020/02/27/children-...  2020-02-27       en   \n",
       "2  http://www.agoravox.it/Covid-19-un-messaggio-d...  2020-03-13       en   \n",
       "4  http://www.millenniumpost.in/big-stories/ai-ex...  2020-08-07       en   \n",
       "5  http://www.nativestew.com/2023/11/ai-took-my-j...  2023-11-20       en   \n",
       "\n",
       "                                               title  \\\n",
       "0  LegalTech Artificial Intelligence Market 2019 ...   \n",
       "1  Children With Autism Saw Their Learning and So...   \n",
       "2  Covid-19: un messaggio dai ricercatori italian...   \n",
       "4  Two dead as AI Express flight skids off Kozhik...   \n",
       "5  Native Stew - Bahamas AI Art, Photos, Videos: ...   \n",
       "\n",
       "                                                text  token_count  \\\n",
       "0  LegalTech Artificial Intelligence Market 2019 ...          951   \n",
       "1  \\nChildren With Autism Saw Their Learning and ...         1567   \n",
       "2  \\n\\n\\nCovid-19: un messaggio dai ricercatori i...         2055   \n",
       "4  Two dead as AI Express flight skids off Kozhik...          266   \n",
       "5  \\nNative Stew - Bahamas AI Art, Photos, Videos...          328   \n",
       "\n",
       "                                        cleaned_text  \n",
       "0  LegalTech AI Market 2019 Technology Advancemen...  \n",
       "1  Children With Autism Saw Their Learning and So...  \n",
       "2  Covid-19: un messaggio dai ricercatori italian...  \n",
       "4  Two dead as AI Express flight skids off Kozhik...  \n",
       "5  Native Stew - Bahamas AI Art, Photos, Videos: ...  "
      ]
     },
     "execution_count": 2,
     "metadata": {},
     "output_type": "execute_result"
    }
   ],
   "source": [
    "import pandas as pd\n",
    "\n",
    "df = pd.read_parquet('./data/news_final_project_clean.parquet')\n",
    "\n",
    "df.head()"
   ]
  },
  {
   "cell_type": "code",
   "execution_count": null,
   "id": "9d0984d1-1244-4907-8f48-bd9bd887434f",
   "metadata": {},
   "outputs": [],
   "source": []
  }
 ],
 "metadata": {
  "environment": {
   "kernel": "conda-root-py",
   "name": "workbench-notebooks.m115",
   "type": "gcloud",
   "uri": "gcr.io/deeplearning-platform-release/workbench-notebooks:m115"
  },
  "kernelspec": {
   "display_name": "Python 3 (ipykernel)",
   "language": "python",
   "name": "conda-root-py"
  },
  "language_info": {
   "codemirror_mode": {
    "name": "ipython",
    "version": 3
   },
   "file_extension": ".py",
   "mimetype": "text/x-python",
   "name": "python",
   "nbconvert_exporter": "python",
   "pygments_lexer": "ipython3",
   "version": "3.10.13"
  }
 },
 "nbformat": 4,
 "nbformat_minor": 5
}
